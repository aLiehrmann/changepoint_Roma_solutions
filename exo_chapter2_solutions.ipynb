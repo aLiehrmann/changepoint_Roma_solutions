{
 "cells": [
  {
   "cell_type": "code",
   "execution_count": null,
   "id": "859860ce-b3f6-4f6a-b263-170f3905e241",
   "metadata": {},
   "outputs": [],
   "source": [
    "import numpy as np\n",
    "import matplotlib.pyplot as plt\n",
    "import scipy.stats as stats\n",
    "import concurrent.futures\n",
    "import pandas as pd\n",
    "import itertools"
   ]
  },
  {
   "cell_type": "markdown",
   "id": "85c22cce-d1e8-4c4a-811e-e741203a7c59",
   "metadata": {},
   "source": [
    "# Exercises 1 & 2: Simulate different scenarios (Gaussian & Student)"
   ]
  },
  {
   "cell_type": "code",
   "execution_count": null,
   "id": "51a627ea-34ee-4931-8e29-68d3ae7b5059",
   "metadata": {},
   "outputs": [],
   "source": [
    "def simulate_amoc_data(n, tau, mu1, mu2, sigma1=1.0, sigma2=1.0, \n",
    "                  distribution='gaussian', df=None, random_seed=None):\n",
    "    \"\"\"\n",
    "    Generate a sequence with a changepoint at 'tau'.\n",
    "    \"\"\"\n",
    "    if random_seed is not None:\n",
    "        np.random.seed(random_seed)\n",
    "    if tau < 1 or tau >= n:\n",
    "        raise ValueError(\"tau must be in {1, 2, ..., n-1}.\")\n",
    "    \n",
    "    # Construct true mean vector\n",
    "    mu = np.concatenate([np.repeat(mu1, tau), np.repeat(mu2, n - tau)])\n",
    "    \n",
    "    # Generate noise based on specified distribution\n",
    "    if distribution == 'gaussian':\n",
    "        noise = np.concatenate([\n",
    "            np.random.normal(loc=0, scale=sigma1, size=tau), \n",
    "            np.random.normal(loc=0, scale=sigma2, size=n-tau)\n",
    "        ])\n",
    "    elif distribution == 't':\n",
    "        if df is None:\n",
    "            raise ValueError(\"df must be provided for Student-t distribution.\")\n",
    "        noise = np.concatenate([\n",
    "            stats.t.rvs(df, loc=0, scale=sigma1, size=tau), \n",
    "            stats.t.rvs(df, loc=0, scale=sigma2, size=n-tau)\n",
    "        ])\n",
    "    else:\n",
    "        raise ValueError(\"Unknown distribution type.\")\n",
    "    \n",
    "    data = mu + noise\n",
    "    return mu, data"
   ]
  },
  {
   "cell_type": "code",
   "execution_count": null,
   "id": "85a80d70-d039-4541-8286-146575d7e3a9",
   "metadata": {},
   "outputs": [],
   "source": [
    "plt.figure(figsize=(8, 12))\n",
    "\n",
    "# Case 1\n",
    "plt.subplot(3, 1, 1)        \n",
    "plt.step(x, mu_case1, label=\"Mean vector\",    color=\"blue\", linewidth=1)\n",
    "plt.plot(x, y_case1,  label=\"Simulated data\", color=\"grey\", alpha=0.7)\n",
    "plt.axvline(x=tau, color=\"red\", linestyle=\"--\", label=f\"Changepoint (τ={tau})\")\n",
    "plt.title(\"A. Change in Mean Only\")\n",
    "plt.ylabel(\"y\")\n",
    "plt.legend()\n",
    "\n",
    "# Case 2\n",
    "plt.subplot(3, 1, 2)        \n",
    "plt.step(x, mu_case2, color=\"blue\", linewidth=1)\n",
    "plt.plot(x, y_case2, color=\"grey\", alpha=0.7)\n",
    "plt.axvline(x=tau, color=\"red\", linestyle=\"--\")\n",
    "plt.title(\"B. Change in Variance Only\")\n",
    "plt.ylabel(\"y\")\n",
    "\n",
    "# Case 3\n",
    "plt.subplot(3, 1, 3)        \n",
    "plt.step(x, mu_case3, color=\"blue\", linewidth=1)\n",
    "plt.plot(x, y_case3, color=\"grey\", alpha=0.7)\n",
    "plt.axvline(x=tau, color=\"red\", linestyle=\"--\")\n",
    "plt.title(\"C. Change in Mean and Variance\")\n",
    "plt.ylabel(\"y\")\n",
    "plt.xlabel(\"t\")\n",
    "\n",
    "plt.tight_layout()\n",
    "plt.show()"
   ]
  }
 ],
 "metadata": {
  "kernelspec": {
   "display_name": "Python 3 (ipykernel)",
   "language": "python",
   "name": "python3"
  },
  "language_info": {
   "codemirror_mode": {
    "name": "ipython",
    "version": 3
   },
   "file_extension": ".py",
   "mimetype": "text/x-python",
   "name": "python",
   "nbconvert_exporter": "python",
   "pygments_lexer": "ipython3",
   "version": "3.12.4"
  }
 },
 "nbformat": 4,
 "nbformat_minor": 5
}
