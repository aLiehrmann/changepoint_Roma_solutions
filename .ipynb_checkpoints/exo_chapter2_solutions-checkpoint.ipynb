{
 "cells": [
  {
   "cell_type": "code",
   "execution_count": null,
   "id": "859860ce-b3f6-4f6a-b263-170f3905e241",
   "metadata": {},
   "outputs": [],
   "source": [
    "import numpy as np\n",
    "import matplotlib.pyplot as plt\n",
    "import scipy.stats as stats\n",
    "import concurrent.futures\n",
    "import pandas as pd\n",
    "import itertools"
   ]
  },
  {
   "cell_type": "markdown",
   "id": "85c22cce-d1e8-4c4a-811e-e741203a7c59",
   "metadata": {},
   "source": [
    "# Exercises 1 & 2: Simulate different scenarios (Gaussian & Student)"
   ]
  },
  {
   "cell_type": "code",
   "execution_count": null,
   "id": "76395546-416f-46e6-ba64-78e874fe3ee6",
   "metadata": {},
   "outputs": [],
   "source": []
  }
 ],
 "metadata": {
  "kernelspec": {
   "display_name": "Python 3 (ipykernel)",
   "language": "python",
   "name": "python3"
  },
  "language_info": {
   "codemirror_mode": {
    "name": "ipython",
    "version": 3
   },
   "file_extension": ".py",
   "mimetype": "text/x-python",
   "name": "python",
   "nbconvert_exporter": "python",
   "pygments_lexer": "ipython3",
   "version": "3.12.4"
  }
 },
 "nbformat": 4,
 "nbformat_minor": 5
}
