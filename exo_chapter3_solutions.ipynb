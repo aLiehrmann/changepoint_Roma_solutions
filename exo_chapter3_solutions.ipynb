{
 "cells": [
  {
   "cell_type": "code",
   "execution_count": null,
   "id": "91dce41e-3771-4ec1-aa38-2c6f80ce1899",
   "metadata": {},
   "outputs": [],
   "source": [
    "import numpy as np\n",
    "import matplotlib.pyplot as plt\n",
    "import scipy.stats as stats\n",
    "import concurrent.futures\n",
    "import pandas as pd\n",
    "import itertools\n",
    "import time"
   ]
  },
  {
   "cell_type": "markdown",
   "id": "2fe0da58-416e-42bc-9543-48945cdc2e91",
   "metadata": {},
   "source": [
    "# Exercise 17: Simulate Gaussian profiles with multiple changepoints "
   ]
  },
  {
   "cell_type": "code",
   "execution_count": null,
   "id": "9bf0b960-13b4-49b2-9652-3f14115c5c40",
   "metadata": {},
   "outputs": [],
   "source": [
    "def simulate_mcp_data(n, tau, mu, sigma=1.0, random_seed=None):\n",
    "    \"\"\"\n",
    "    Simulate i.i.d. Gaussian data with several changes in the mean.\n",
    "    \n",
    "    Parameters:\n",
    "      n           : int\n",
    "                        Total number of observations.\n",
    "      tau         : list or array-like\n",
    "                        Positions (indices) where the mean changes.\n",
    "                        Each change position must be in {1, 2, ..., n-1} and the list must be sorted in increasing order.\n",
    "      mu          : list or array-like\n",
    "                        Mean values for each segment. The length must equal len(change_positions) + 1.\n",
    "      sigma       : float (default=1.0)\n",
    "                        Standard deviation (assumed constant across all segments).\n",
    "      random_seed : int or None (default=None)\n",
    "                        Seed for reproducibility.\n",
    "      \n",
    "    Returns:\n",
    "      mu   : numpy array of shape (n,)\n",
    "             The true mean vector (each segment filled with its corresponding mean).\n",
    "      data : numpy array of shape (n,)\n",
    "             The simulated data: true mean + Gaussian noise.\n",
    "    \"\"\"\n",
    "    if random_seed is not None:\n",
    "        np.random.seed(random_seed)\n",
    "    \n",
    "    # Ensure change_positions is sorted and valid\n",
    "    tau = sorted(tau)\n",
    "    if any(t < 1 or t >= n for t in tau):\n",
    "        raise ValueError(\"Each change position must be in {1, 2, ..., n-1}.\")\n",
    "    \n",
    "    if len(mu) != len(tau) + 1:\n",
    "        raise ValueError(\"The number of segment means must equal the number of change positions plus one.\")\n",
    "    \n",
    "    tau   = np.concatenate(([0], tau, [n]))\n",
    "    mu    = np.repeat(mu,tau[1:]-tau[:-1]) \n",
    "    noise = np.random.normal(loc=0, scale=sigma, size=n)\n",
    "    data  = mu + noise\n",
    "    \n",
    "    return mu, data"
   ]
  },
  {
   "cell_type": "code",
   "execution_count": null,
   "id": "5f119708-577b-45de-bb44-15ba28dc4e9f",
   "metadata": {},
   "outputs": [],
   "source": [
    "# Example: simulate data with 5 changepoints\n",
    "n   = 200\n",
    "tau = [10, 70, 100, 150, 180]\n",
    "mu  = [0.0, 2.0, -1.0, 3.0, 0.0, 1.0]\n",
    "\n",
    "mu, y = simulate_mcp_data(n, tau, mu, sigma=1.0, random_seed=42)\n",
    "\n",
    "# Plot the simulated data and the true underlying mean\n",
    "x = np.arange(1, n+1)\n",
    "\n",
    "plt.figure(figsize=(10, 5))\n",
    "plt.plot(x, y, label='Simulated data', color='gray', alpha=0.7)\n",
    "plt.step(x, mu, label='Mean vector', color='blue', linewidth=1)\n",
    "for cp in tau:\n",
    "    plt.axvline(x=cp, color='red', linestyle='--', label=f'Changepoint' if cp==tau[0] else None)\n",
    "plt.xlabel('Observation Index')\n",
    "plt.ylabel('Value')\n",
    "plt.title('Simulated Gaussian Data with Multiple Changepoints')\n",
    "plt.legend()\n",
    "plt.show()"
   ]
  }
 ],
 "metadata": {
  "kernelspec": {
   "display_name": "Python 3 (ipykernel)",
   "language": "python",
   "name": "python3"
  },
  "language_info": {
   "codemirror_mode": {
    "name": "ipython",
    "version": 3
   },
   "file_extension": ".py",
   "mimetype": "text/x-python",
   "name": "python",
   "nbconvert_exporter": "python",
   "pygments_lexer": "ipython3",
   "version": "3.12.4"
  }
 },
 "nbformat": 4,
 "nbformat_minor": 5
}
